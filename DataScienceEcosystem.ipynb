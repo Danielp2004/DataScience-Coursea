{
 "cells": [
  {
   "cell_type": "markdown",
   "id": "2cdfc9f8-7101-4511-8e20-d3ed75c60805",
   "metadata": {},
   "source": [
    "# H1: Data Science Tools and Ecosystem"
   ]
  },
  {
   "cell_type": "markdown",
   "id": "95eaf9e8-04ea-497f-a024-9d379ba949af",
   "metadata": {},
   "source": [
    "## Autor: \n",
    "Daniel Parrado"
   ]
  },
  {
   "cell_type": "markdown",
   "id": "a6516b8c-f6ae-4711-8444-138ef13bac57",
   "metadata": {},
   "source": [
    "In this notebook, Data science Tools and Ecosystmem are sumarized"
   ]
  },
  {
   "cell_type": "markdown",
   "id": "4c4fa099-3532-470c-8583-83169382c045",
   "metadata": {},
   "source": [
    "#### ***Objetives:***\n",
    "+ List popular lenguagues for Data Science \n",
    "+ LIBRARIES\n",
    "+ GRAPHICS\n",
    "+ Operations "
   ]
  },
  {
   "cell_type": "markdown",
   "id": "5dafbea3-673d-43bc-9ffd-69a01ae1b3a8",
   "metadata": {},
   "source": [
    "###### Some of the popular languagues that Data Scientist use are:\n",
    "1. First Python \n",
    "2. Second R \n",
    "3. Third Julia"
   ]
  },
  {
   "cell_type": "markdown",
   "id": "70fe95f2-8a54-46cf-8c32-0da2168e7956",
   "metadata": {},
   "source": [
    "###### Some of the commonly used libraries used by Data Sciencets include: \n",
    "1. First pandas\n",
    "2. Second ggplot\n",
    "3. Third numpy"
   ]
  },
  {
   "cell_type": "markdown",
   "id": "2bd26c38-bed3-4e6c-8843-01cc54579028",
   "metadata": {},
   "source": [
    "|Data Science Tools|\n",
    "|-----------|\n",
    "|TensorFlow|\n",
    "|Keras|\n",
    "|Spark|"
   ]
  },
  {
   "cell_type": "markdown",
   "id": "6a1adc75-bf4c-4e19-a2e1-8ab10b4d1a91",
   "metadata": {},
   "source": [
    "### Below are a few examples of evaluating arithmetic expresions in python "
   ]
  },
  {
   "cell_type": "code",
   "execution_count": 12,
   "id": "1e5aa523-90ba-4d0e-bf63-24222839f57b",
   "metadata": {},
   "outputs": [
    {
     "name": "stdout",
     "output_type": "stream",
     "text": [
      "17\n",
      "17\n"
     ]
    }
   ],
   "source": [
    "y=3\n",
    "x=4\n",
    "z=5 \n",
    "d = (y*x)+z\n",
    "e = (3*4)+5\n",
    "print(d)\n",
    "print(e)"
   ]
  },
  {
   "cell_type": "code",
   "execution_count": 16,
   "id": "681cf72e-4f97-4465-8748-7c6dc190eab5",
   "metadata": {},
   "outputs": [
    {
     "name": "stdout",
     "output_type": "stream",
     "text": [
      "3.3333333333333335\n"
     ]
    }
   ],
   "source": [
    "#This will convert 200 minutes to hours by dividing by 60 \n",
    "minutes = 200\n",
    "hour = 60\n",
    "tot = minutes/hour\n",
    "print(tot)"
   ]
  }
 ],
 "metadata": {
  "kernelspec": {
   "display_name": "Python 3 (ipykernel)",
   "language": "python",
   "name": "python3"
  },
  "language_info": {
   "codemirror_mode": {
    "name": "ipython",
    "version": 3
   },
   "file_extension": ".py",
   "mimetype": "text/x-python",
   "name": "python",
   "nbconvert_exporter": "python",
   "pygments_lexer": "ipython3",
   "version": "3.11.7"
  }
 },
 "nbformat": 4,
 "nbformat_minor": 5
}
